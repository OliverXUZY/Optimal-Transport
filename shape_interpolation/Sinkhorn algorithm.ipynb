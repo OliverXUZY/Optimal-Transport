{
 "cells": [
  {
   "cell_type": "code",
   "execution_count": 1,
   "metadata": {},
   "outputs": [
    {
     "ename": "ModuleNotFoundError",
     "evalue": "No module named 'ot'",
     "output_type": "error",
     "traceback": [
      "\u001b[1;31m---------------------------------------------------------------------------\u001b[0m",
      "\u001b[1;31mModuleNotFoundError\u001b[0m                       Traceback (most recent call last)",
      "\u001b[1;32m<ipython-input-1-d426671eb7ba>\u001b[0m in \u001b[0;36m<module>\u001b[1;34m\u001b[0m\n\u001b[0;32m      1\u001b[0m \u001b[1;32mimport\u001b[0m \u001b[0mnumpy\u001b[0m \u001b[1;32mas\u001b[0m \u001b[0mnp\u001b[0m\u001b[1;33m\u001b[0m\u001b[1;33m\u001b[0m\u001b[0m\n\u001b[0;32m      2\u001b[0m \u001b[1;32mimport\u001b[0m \u001b[0mmatplotlib\u001b[0m\u001b[1;33m.\u001b[0m\u001b[0mpylab\u001b[0m \u001b[1;32mas\u001b[0m \u001b[0mpl\u001b[0m\u001b[1;33m\u001b[0m\u001b[1;33m\u001b[0m\u001b[0m\n\u001b[1;32m----> 3\u001b[1;33m \u001b[1;32mimport\u001b[0m \u001b[0mot\u001b[0m\u001b[1;33m\u001b[0m\u001b[1;33m\u001b[0m\u001b[0m\n\u001b[0m\u001b[0;32m      4\u001b[0m \u001b[1;32mimport\u001b[0m \u001b[0mot\u001b[0m\u001b[1;33m.\u001b[0m\u001b[0mplot\u001b[0m\u001b[1;33m\u001b[0m\u001b[1;33m\u001b[0m\u001b[0m\n\u001b[0;32m      5\u001b[0m \u001b[1;32mimport\u001b[0m \u001b[0mnumpy\u001b[0m\u001b[1;33m.\u001b[0m\u001b[0mrandom\u001b[0m\u001b[1;33m\u001b[0m\u001b[1;33m\u001b[0m\u001b[0m\n",
      "\u001b[1;31mModuleNotFoundError\u001b[0m: No module named 'ot'"
     ]
    }
   ],
   "source": [
    "import numpy as np\n",
    "import matplotlib.pylab as pl\n",
    "import ot\n",
    "import ot.plot\n",
    "import numpy.random\n",
    "from numpy import random\n",
    "import matplotlib.pyplot as plt\n",
    "import pandas as pd\n",
    "from scipy.ndimage.filters import laplace"
   ]
  },
  {
   "cell_type": "markdown",
   "metadata": {},
   "source": [
    "# Convolutional Sinkhorn"
   ]
  },
  {
   "cell_type": "code",
   "execution_count": 6,
   "metadata": {},
   "outputs": [],
   "source": [
    "#%% parameters and data generation\n",
    "\n",
    "n = 100  # nb samples\n",
    "\n",
    "mu_n = np.array([random.uniform(0,3) for x in range(n)])\n",
    "\n",
    "nu_n_init = [random.uniform(0,1) for x in range(n)]\n",
    "\n",
    "def nu_sample(unif):\n",
    "    if unif < 1/4:\n",
    "        return unif**(1/2)\n",
    "    if unif >= 1/4 and unif < 1/2:\n",
    "        return 1-(1/2-unif)**(1/2)\n",
    "    if unif >= 1/2 and unif < 3/4:\n",
    "        return 2+(unif-1/2)**(1/2)\n",
    "    if unif >= 3/4:\n",
    "        return 3-(1-unif)**(1/2)\n",
    "    \n",
    "nu_n = np.array(list(map(nu_sample, nu_n_init)))\n",
    "beta = [10,5,1,0.1,0.001]\n",
    "\n",
    "# a, b = np.ones((n,)) / n, np.ones((n,)) / n \n",
    "\n",
    "# #loss matrix\n",
    "# M = ot.dist(mu_n.reshape((n,1)), nu_n.reshape((n,1)), metric=\"euclidean\")\n",
    "# M /= M.max()"
   ]
  },
  {
   "cell_type": "code",
   "execution_count": 72,
   "metadata": {},
   "outputs": [],
   "source": [
    "def convolutional_wasserstein(mu0, mu1, gamma, threshold = 1e-15, iteration = 10000, base=1e-30):\n",
    "    m = list(set(list(mu0) + list(mu1)))\n",
    "    mu00 = pd.Series([1/len(mu0)]*len(mu0)+[0]*len(mu1), index=list(mu0)+list(mu1)).values\n",
    "    # print(mu0)\n",
    "    mu11 = pd.Series([0]*len(mu0)+[1/len(mu1)]*len(mu1), index=list(mu1)+list(mu0)).values\n",
    "    a = np.ones_like(mu00)\n",
    "    v = np.ones_like(mu00)\n",
    "    w = np.ones_like(mu00)\n",
    "    obj = 100\n",
    "    j = 0\n",
    "    # L = laplace(m)\n",
    "    def Ht(x=a*w,t=gamma/2):\n",
    "        xy = np.linspace(0, 3, mu00.shape[0])\n",
    "        [Y, X] = np.meshgrid(xy, xy)\n",
    "        ht = np.exp(-(X-Y) ** 2/4/t)\n",
    "        return [np.dot(np.dot(ht, x), ht), ht]\n",
    "    # ht = np.linalg.inv(np.diag(a)+gamma/2*L)\n",
    "    while (obj > threshold and j < iteration) :\n",
    "        v0 = v\n",
    "        w0 = w\n",
    "        v = mu00/np.maximum(base, Ht(a*w)[0])\n",
    "        w = mu11/np.maximum(base, Ht(a*v)[0])\n",
    "        j += 1\n",
    "        obj = sum((v-v0)**2+(w-w0)**2)\n",
    "    # print(np.sum(np.dot(np.dot(np.diag(v),Ht()[1]),np.diag(w))))\n",
    "    # , 'pi': np.dot(np.dot(np.diag(v),Ht()[1]),np.diag(w))\n",
    "    return {'loss':gamma*np.dot(a, mu00*np.log(np.where(v==0, 1, v))+mu11*np.log(np.where(w==0, 1, w))), 'step': j}"
   ]
  },
  {
   "cell_type": "code",
   "execution_count": 75,
   "metadata": {},
   "outputs": [
    {
     "data": {
      "text/plain": [
       "{'loss': 0.10311769399171576, 'step': 1590}"
      ]
     },
     "execution_count": 75,
     "metadata": {},
     "output_type": "execute_result"
    }
   ],
   "source": [
    "otarray = convolutional_wasserstein(mu_n, nu_n, beta[-1])\n",
    "otarray"
   ]
  },
  {
   "cell_type": "code",
   "execution_count": null,
   "metadata": {},
   "outputs": [],
   "source": []
  }
 ],
 "metadata": {
  "kernelspec": {
   "display_name": "Python 3",
   "language": "python",
   "name": "python3"
  },
  "language_info": {
   "codemirror_mode": {
    "name": "ipython",
    "version": 3
   },
   "file_extension": ".py",
   "mimetype": "text/x-python",
   "name": "python",
   "nbconvert_exporter": "python",
   "pygments_lexer": "ipython3",
   "version": "3.6.8"
  }
 },
 "nbformat": 4,
 "nbformat_minor": 2
}
